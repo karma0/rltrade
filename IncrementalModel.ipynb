{
 "cells": [
  {
   "cell_type": "code",
   "execution_count": 1,
   "metadata": {
    "collapsed": true
   },
   "outputs": [],
   "source": [
    "import pandas as pd\n",
    "import numpy as np"
   ]
  },
  {
   "cell_type": "code",
   "execution_count": 2,
   "metadata": {},
   "outputs": [
    {
     "name": "stderr",
     "output_type": "stream",
     "text": [
      "Using TensorFlow backend.\n"
     ]
    },
    {
     "data": {
      "text/plain": [
       "'2.2.2'"
      ]
     },
     "execution_count": 2,
     "metadata": {},
     "output_type": "execute_result"
    }
   ],
   "source": [
    "import keras\n",
    "keras.__version__"
   ]
  },
  {
   "cell_type": "code",
   "execution_count": 3,
   "metadata": {},
   "outputs": [
    {
     "data": {
      "text/html": [
       "<div>\n",
       "<style>\n",
       "    .dataframe thead tr:only-child th {\n",
       "        text-align: right;\n",
       "    }\n",
       "\n",
       "    .dataframe thead th {\n",
       "        text-align: left;\n",
       "    }\n",
       "\n",
       "    .dataframe tbody tr th {\n",
       "        vertical-align: top;\n",
       "    }\n",
       "</style>\n",
       "<table border=\"1\" class=\"dataframe\">\n",
       "  <thead>\n",
       "    <tr style=\"text-align: right;\">\n",
       "      <th></th>\n",
       "      <th>timestamp</th>\n",
       "      <th>open</th>\n",
       "      <th>high</th>\n",
       "      <th>low</th>\n",
       "      <th>close</th>\n",
       "      <th>volume</th>\n",
       "    </tr>\n",
       "  </thead>\n",
       "  <tbody>\n",
       "    <tr>\n",
       "      <th>0</th>\n",
       "      <td>2016-12-31 05:02:00</td>\n",
       "      <td>948.0</td>\n",
       "      <td>948.0</td>\n",
       "      <td>942.899</td>\n",
       "      <td>942.899</td>\n",
       "      <td>0.083403</td>\n",
       "    </tr>\n",
       "    <tr>\n",
       "      <th>1</th>\n",
       "      <td>2016-12-31 05:03:00</td>\n",
       "      <td>NaN</td>\n",
       "      <td>NaN</td>\n",
       "      <td>NaN</td>\n",
       "      <td>NaN</td>\n",
       "      <td>0.000000</td>\n",
       "    </tr>\n",
       "    <tr>\n",
       "      <th>2</th>\n",
       "      <td>2016-12-31 05:04:00</td>\n",
       "      <td>NaN</td>\n",
       "      <td>NaN</td>\n",
       "      <td>NaN</td>\n",
       "      <td>NaN</td>\n",
       "      <td>0.000000</td>\n",
       "    </tr>\n",
       "    <tr>\n",
       "      <th>3</th>\n",
       "      <td>2016-12-31 05:05:00</td>\n",
       "      <td>NaN</td>\n",
       "      <td>NaN</td>\n",
       "      <td>NaN</td>\n",
       "      <td>NaN</td>\n",
       "      <td>0.000000</td>\n",
       "    </tr>\n",
       "    <tr>\n",
       "      <th>4</th>\n",
       "      <td>2016-12-31 05:06:00</td>\n",
       "      <td>NaN</td>\n",
       "      <td>NaN</td>\n",
       "      <td>NaN</td>\n",
       "      <td>NaN</td>\n",
       "      <td>0.000000</td>\n",
       "    </tr>\n",
       "  </tbody>\n",
       "</table>\n",
       "</div>"
      ],
      "text/plain": [
       "             timestamp   open   high      low    close    volume\n",
       "0  2016-12-31 05:02:00  948.0  948.0  942.899  942.899  0.083403\n",
       "1  2016-12-31 05:03:00    NaN    NaN      NaN      NaN  0.000000\n",
       "2  2016-12-31 05:04:00    NaN    NaN      NaN      NaN  0.000000\n",
       "3  2016-12-31 05:05:00    NaN    NaN      NaN      NaN  0.000000\n",
       "4  2016-12-31 05:06:00    NaN    NaN      NaN      NaN  0.000000"
      ]
     },
     "execution_count": 3,
     "metadata": {},
     "output_type": "execute_result"
    }
   ],
   "source": [
    "exch = 'BTRX'\n",
    "pair = 'BTC/USDT'\n",
    "\n",
    "df = pd.read_csv(f\"{exch}_{pair.replace('/', '-')}_ohlcv.csv\")\n",
    "df.head()"
   ]
  },
  {
   "cell_type": "code",
   "execution_count": 4,
   "metadata": {},
   "outputs": [
    {
     "data": {
      "text/plain": [
       "timestamp     object\n",
       "open         float64\n",
       "high         float64\n",
       "low          float64\n",
       "close        float64\n",
       "volume       float64\n",
       "dtype: object"
      ]
     },
     "execution_count": 4,
     "metadata": {},
     "output_type": "execute_result"
    }
   ],
   "source": [
    "df.dtypes"
   ]
  },
  {
   "cell_type": "code",
   "execution_count": 5,
   "metadata": {},
   "outputs": [
    {
     "data": {
      "text/html": [
       "<div>\n",
       "<style>\n",
       "    .dataframe thead tr:only-child th {\n",
       "        text-align: right;\n",
       "    }\n",
       "\n",
       "    .dataframe thead th {\n",
       "        text-align: left;\n",
       "    }\n",
       "\n",
       "    .dataframe tbody tr th {\n",
       "        vertical-align: top;\n",
       "    }\n",
       "</style>\n",
       "<table border=\"1\" class=\"dataframe\">\n",
       "  <thead>\n",
       "    <tr style=\"text-align: right;\">\n",
       "      <th></th>\n",
       "      <th>timestamp</th>\n",
       "      <th>open</th>\n",
       "      <th>high</th>\n",
       "      <th>low</th>\n",
       "      <th>close</th>\n",
       "      <th>volume</th>\n",
       "    </tr>\n",
       "  </thead>\n",
       "  <tbody>\n",
       "    <tr>\n",
       "      <th>0</th>\n",
       "      <td>2016-12-31 05:02:00</td>\n",
       "      <td>948.000</td>\n",
       "      <td>948.000</td>\n",
       "      <td>942.899</td>\n",
       "      <td>942.899</td>\n",
       "      <td>0.083403</td>\n",
       "    </tr>\n",
       "    <tr>\n",
       "      <th>1</th>\n",
       "      <td>2016-12-31 05:03:00</td>\n",
       "      <td>942.899</td>\n",
       "      <td>942.899</td>\n",
       "      <td>942.899</td>\n",
       "      <td>942.899</td>\n",
       "      <td>0.000000</td>\n",
       "    </tr>\n",
       "    <tr>\n",
       "      <th>2</th>\n",
       "      <td>2016-12-31 05:04:00</td>\n",
       "      <td>942.899</td>\n",
       "      <td>942.899</td>\n",
       "      <td>942.899</td>\n",
       "      <td>942.899</td>\n",
       "      <td>0.000000</td>\n",
       "    </tr>\n",
       "    <tr>\n",
       "      <th>3</th>\n",
       "      <td>2016-12-31 05:05:00</td>\n",
       "      <td>942.899</td>\n",
       "      <td>942.899</td>\n",
       "      <td>942.899</td>\n",
       "      <td>942.899</td>\n",
       "      <td>0.000000</td>\n",
       "    </tr>\n",
       "    <tr>\n",
       "      <th>4</th>\n",
       "      <td>2016-12-31 05:06:00</td>\n",
       "      <td>942.899</td>\n",
       "      <td>942.899</td>\n",
       "      <td>942.899</td>\n",
       "      <td>942.899</td>\n",
       "      <td>0.000000</td>\n",
       "    </tr>\n",
       "  </tbody>\n",
       "</table>\n",
       "</div>"
      ],
      "text/plain": [
       "             timestamp     open     high      low    close    volume\n",
       "0  2016-12-31 05:02:00  948.000  948.000  942.899  942.899  0.083403\n",
       "1  2016-12-31 05:03:00  942.899  942.899  942.899  942.899  0.000000\n",
       "2  2016-12-31 05:04:00  942.899  942.899  942.899  942.899  0.000000\n",
       "3  2016-12-31 05:05:00  942.899  942.899  942.899  942.899  0.000000\n",
       "4  2016-12-31 05:06:00  942.899  942.899  942.899  942.899  0.000000"
      ]
     },
     "execution_count": 5,
     "metadata": {},
     "output_type": "execute_result"
    }
   ],
   "source": [
    "# Clean up, passing forward close to OHLC for NaN\n",
    "lastrow = df.iloc[0].copy()\n",
    "\n",
    "def update_nan(row):\n",
    "    global lastrow\n",
    "    if row.volume == 0:\n",
    "        close = lastrow.close\n",
    "        \n",
    "        row.open = close\n",
    "        row.high = close\n",
    "        row.low = close\n",
    "        row.close = close\n",
    "        \n",
    "    lastrow = row.copy()\n",
    "    return row\n",
    "    \n",
    "df = df.apply(update_nan, axis=1)\n",
    "df.head()"
   ]
  },
  {
   "cell_type": "code",
   "execution_count": 6,
   "metadata": {},
   "outputs": [
    {
     "name": "stderr",
     "output_type": "stream",
     "text": [
      "/home/rlarson/.pyenv/versions/anaconda3-5.0.1/lib/python3.6/site-packages/matplotlib/cbook/deprecation.py:106: MatplotlibDeprecationWarning: The finance module has been deprecated in mpl 2.0 and will be removed in mpl 2.2. Please use the module mpl_finance instead.\n",
      "  warnings.warn(message, mplDeprecation, stacklevel=1)\n",
      "/home/rlarson/.pyenv/versions/anaconda3-5.0.1/lib/python3.6/site-packages/matplotlib/cbook/deprecation.py:106: MatplotlibDeprecationWarning: The axisbg attribute was deprecated in version 2.0. Use facecolor instead.\n",
      "  warnings.warn(message, mplDeprecation, stacklevel=1)\n"
     ]
    },
    {
     "data": {
      "image/png": "[encoded data removed]",
      "text/plain": [
       "<matplotlib.figure.Figure at 0x7f24abcb2198>"
      ]
     },
     "metadata": {},
     "output_type": "display_data"
    }
   ],
   "source": [
    "import matplotlib.pyplot as plt\n",
    "from matplotlib.finance import candlestick_ohlc\n",
    "import matplotlib.dates as mdates\n",
    "\n",
    "day = 60 * 24  # in minutes\n",
    "cs_frame = df.iloc[-1 * day:].copy()\n",
    "\n",
    "#if necessary convert to datetime\n",
    "cs_frame.timestamp = pd.to_datetime(cs_frame.timestamp)\n",
    "\n",
    "cs_frame = cs_frame[['timestamp', 'open', 'high', 'low', 'close', 'volume']]\n",
    "cs_frame[\"timestamp\"] = cs_frame[\"timestamp\"].apply(mdates.date2num)\n",
    "\n",
    "f1 = plt.subplot2grid((6, 4), (1, 0), rowspan=6, colspan=4, axisbg='#07000d')\n",
    "candlestick_ohlc(f1, cs_frame.values, width=.6, colorup='#53c156', colordown='#ff1717')\n",
    "f1.xaxis_date()\n",
    "f1.xaxis.set_major_formatter(mdates.DateFormatter('%y-%m-%d %H:%M:%S'))\n",
    "\n",
    "plt.xticks(rotation=45)\n",
    "plt.ylabel('Stock Price')\n",
    "plt.xlabel('Date Hours:Minutes')\n",
    "plt.show()"
   ]
  },
  {
   "cell_type": "code",
   "execution_count": 7,
   "metadata": {},
   "outputs": [],
   "source": [
    "# import matplotlib.pyplot as plt\n",
    "# import matplotlib.ticker as mticker\n",
    "# from matplotlib.finance import candlestick_ohlc\n",
    "# import matplotlib.dates as mdates\n",
    "# import datetime as dt\n",
    "\n",
    "# #Reset the index to remove Date column from index\n",
    "# df_ohlc = df.iloc[-200, 0:6].copy().reset_index()\n",
    "\n",
    "# #Naming columns\n",
    "# df_ohlc.columns = [\"Date\",\"Open\",\"High\",'Low',\"Close\"]\n",
    "\n",
    "# #Converting dates column to float values\n",
    "# df_ohlc['Date'] = df_ohlc['Date'].map(mdates.date2num)\n",
    "\n",
    "# #Making plot\n",
    "# fig = plt.figure()\n",
    "# fig.autofmt_xdate()\n",
    "\n",
    "# ax1 = plt.subplot2grid((6,1), (0,0), rowspan=6, colspan=1)\n",
    "\n",
    "# #Converts raw mdate numbers to dates\n",
    "# ax1.xaxis_date()\n",
    "# plt.xlabel(\"Date\")\n",
    "# print(df_ohlc)\n",
    "\n",
    "# #Making candlestick plot\n",
    "# candlestick_ohlc(ax1,df_ohlc.values,width=1, colorup='g', colordown='k',alpha=0.75)\n",
    "# plt.ylabel(\"Price\")\n",
    "# plt.legend()\n",
    "\n",
    "# plt.show()"
   ]
  }
 ],
 "metadata": {
  "kernelspec": {
   "display_name": "Python 3",
   "language": "python",
   "name": "python3"
  },
  "language_info": {
   "codemirror_mode": {
    "name": "ipython",
    "version": 3
   },
   "file_extension": ".py",
   "mimetype": "text/x-python",
   "name": "python",
   "nbconvert_exporter": "python",
   "pygments_lexer": "ipython3",
   "version": "3.6.3"
  }
 },
 "nbformat": 4,
 "nbformat_minor": 2
}
